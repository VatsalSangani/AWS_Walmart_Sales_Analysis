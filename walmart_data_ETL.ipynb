{
 "cells": [
  {
   "cell_type": "code",
   "execution_count": 1,
   "metadata": {},
   "outputs": [
    {
     "name": "stdout",
     "output_type": "stream",
     "text": [
      "   Store       Date  Weekly_Sales  Holiday_Flag  Temperature  Fuel_Price  \\\n",
      "0      1 2010-02-05    1643690.90             0        42.31       2.572   \n",
      "1      1 2010-02-12    1641957.44             1        38.51       2.548   \n",
      "2      1 2010-02-19    1611968.17             0        39.93       2.514   \n",
      "3      1 2010-02-26    1409727.59             0        46.63       2.561   \n",
      "4      1 2010-03-05    1554806.68             0        46.50       2.625   \n",
      "\n",
      "          CPI  Unemployment  \n",
      "0  211.096358         8.106  \n",
      "1  211.242170         8.106  \n",
      "2  211.289143         8.106  \n",
      "3  211.319643         8.106  \n",
      "4  211.350143         8.106  \n"
     ]
    }
   ],
   "source": [
    "import pandas as pd\n",
    "# Load dataset, assuming the CSV file is named 'walmart_sales.csv'\n",
    "df = pd.read_csv('Walmart_Sales.csv', parse_dates=['Date'], dayfirst=True)\n",
    "print(df.head())"
   ]
  },
  {
   "cell_type": "code",
   "execution_count": 2,
   "metadata": {},
   "outputs": [
    {
     "name": "stderr",
     "output_type": "stream",
     "text": [
      "C:\\Users\\VatsaL\\AppData\\Local\\Temp\\ipykernel_15600\\3504633977.py:10: FutureWarning: DataFrame.fillna with 'method' is deprecated and will raise in a future version. Use obj.ffill() or obj.bfill() instead.\n",
      "  df.fillna(method='ffill', inplace=True)\n"
     ]
    }
   ],
   "source": [
    "# Ensure Date is in datetime format\n",
    "df['Date'] = pd.to_datetime(df['Date'], format='%d-%m-%Y')\n",
    "\n",
    "# Create additional date features\n",
    "df['Year'] = df['Date'].dt.year\n",
    "df['Month'] = df['Date'].dt.month\n",
    "df['Weekday'] = df['Date'].dt.day_name()\n",
    "\n",
    "# Example: Fill any missing values or handle anomalies if necessary\n",
    "df.fillna(method='ffill', inplace=True)"
   ]
  },
  {
   "cell_type": "code",
   "execution_count": 3,
   "metadata": {},
   "outputs": [],
   "source": [
    "# Calculate a simple 4-week moving average of Weekly_Sales\n",
    "df['Moving_Avg_Sales'] = df.groupby('Store')['Weekly_Sales'].transform(lambda x: x.rolling(window=4, min_periods=1).mean())\n"
   ]
  },
  {
   "cell_type": "code",
   "execution_count": 4,
   "metadata": {},
   "outputs": [],
   "source": [
    "# Convert Date column to datetime format\n",
    "df['Date'] = pd.to_datetime(df['Date'])\n",
    "# Calculate week of the month\n",
    "df['Week_of_Month'] = df['Date'].apply(lambda x: (x.day - 1) // 7 + 1)"
   ]
  },
  {
   "cell_type": "code",
   "execution_count": 5,
   "metadata": {},
   "outputs": [
    {
     "name": "stdout",
     "output_type": "stream",
     "text": [
      "   Store       Date  Weekly_Sales  Holiday_Flag  Temperature  Fuel_Price  \\\n",
      "0      1 2010-02-05    1643690.90             0        42.31       2.572   \n",
      "1      1 2010-02-12    1641957.44             1        38.51       2.548   \n",
      "2      1 2010-02-19    1611968.17             0        39.93       2.514   \n",
      "3      1 2010-02-26    1409727.59             0        46.63       2.561   \n",
      "4      1 2010-03-05    1554806.68             0        46.50       2.625   \n",
      "\n",
      "          CPI  Unemployment  Year  Month Weekday  Moving_Avg_Sales  \\\n",
      "0  211.096358         8.106  2010      2  Friday      1.643691e+06   \n",
      "1  211.242170         8.106  2010      2  Friday      1.642824e+06   \n",
      "2  211.289143         8.106  2010      2  Friday      1.632539e+06   \n",
      "3  211.319643         8.106  2010      2  Friday      1.576836e+06   \n",
      "4  211.350143         8.106  2010      3  Friday      1.554615e+06   \n",
      "\n",
      "   Week_of_Month  \n",
      "0              1  \n",
      "1              2  \n",
      "2              3  \n",
      "3              4  \n",
      "4              1  \n"
     ]
    }
   ],
   "source": [
    "print(df.head())"
   ]
  },
  {
   "cell_type": "code",
   "execution_count": 6,
   "metadata": {},
   "outputs": [],
   "source": [
    "walmart_sales_cleaned = pd.DataFrame(df)"
   ]
  },
  {
   "cell_type": "code",
   "execution_count": 7,
   "metadata": {},
   "outputs": [
    {
     "name": "stdout",
     "output_type": "stream",
     "text": [
      "DataFrame pushed to table 'walmart_sales' successfully!\n"
     ]
    }
   ],
   "source": [
    "from sqlalchemy import create_engine\n",
    "from sqlalchemy.exc import SQLAlchemyError\n",
    "\n",
    "# Define your AWS RDS PostgreSQL connection details\n",
    "# Replacing with actual details\n",
    "db_username = \"\"\n",
    "db_password = \"\"  \n",
    "db_host = \"\"\n",
    "db_port = \"5432\"\n",
    "db_name = \"walmart_sales\"\n",
    "\n",
    "# Path to the AWS RDS SSL certificate bundle (use a raw string for Windows paths)\n",
    "ssl_bundle = r\"C:\\Users\\VatsaL\\Desktop\\Datasets\\Walmart Sales Dataset\\eu-north-1-bundle.pem\"\n",
    "\n",
    "# Create the connection string\n",
    "connection_string = f\"postgresql+psycopg2://{db_username}:{db_password}@{db_host}:{db_port}/{db_name}\"\n",
    "# Create the engine with SSL parameters for certificate verification\n",
    "engine = create_engine(\n",
    "    connection_string,\n",
    "    connect_args={\n",
    "        \"sslmode\": \"verify-full\",  # Use 'verify-full' or 'verify-ca' as per your requirements\n",
    "        \"sslrootcert\": ssl_bundle\n",
    "    }\n",
    ")\n",
    "table_name = \"walmart_sales\"  # Specify the target table name\n",
    "\n",
    "try:\n",
    "    # Using 'if_exists=\"replace\"' will drop the table and recreate it.\n",
    "    # You can use 'if_exists=\"append\"' to add to an existing table.\n",
    "    walmart_sales_cleaned.to_sql(table_name, engine, if_exists=\"replace\", index=False)\n",
    "    print(f\"DataFrame pushed to table '{table_name}' successfully!\")\n",
    "except SQLAlchemyError as e:\n",
    "    print(\"Error pushing DataFrame to PostgreSQL:\", e)\n",
    "except Exception as ex:\n",
    "    print(\"An unexpected error occurred:\", ex)"
   ]
  },
  {
   "cell_type": "code",
   "execution_count": null,
   "metadata": {},
   "outputs": [],
   "source": []
  },
  {
   "cell_type": "code",
   "execution_count": 1,
   "metadata": {},
   "outputs": [
    {
     "name": "stdout",
     "output_type": "stream",
     "text": [
      "Initialized empty Git repository in C:/Users/VatsaL/Desktop/Datasets/Walmart Sales Dataset/.git/\n"
     ]
    },
    {
     "name": "stderr",
     "output_type": "stream",
     "text": [
      "warning: in the working copy of 'venv/Include/site/python3.12/greenlet/greenlet.h', LF will be replaced by CRLF the next time Git touches it\n",
      "warning: in the working copy of 'venv/Scripts/activate', LF will be replaced by CRLF the next time Git touches it\n",
      "warning: in the working copy of 'venv/Scripts/jp.py', LF will be replaced by CRLF the next time Git touches it\n",
      "warning: in the working copy of 'venv/share/jupyter/kernels/python3/kernel.json', LF will be replaced by CRLF the next time Git touches it\n",
      "warning: in the working copy of 'venv/share/jupyter/kernels/python3/logo-svg.svg', LF will be replaced by CRLF the next time Git touches it\n",
      "warning: in the working copy of 'venv/share/man/man1/ipython.1', LF will be replaced by CRLF the next time Git touches it\n",
      "warning: in the working copy of 'walmart_data_ETL.ipynb', LF will be replaced by CRLF the next time Git touches it\n",
      "warning: in the working copy of 'walmart_data_analysis.ipynb', LF will be replaced by CRLF the next time Git touches it\n"
     ]
    },
    {
     "name": "stdout",
     "output_type": "stream",
     "text": [
      "[master (root-commit) a0096c0] Initial commit: Walmart Sales Data Analysis Project\n",
      " 39 files changed, 15388 insertions(+)\n",
      " create mode 100644 .gitignore\n",
      " create mode 100644 Walmart Sales Report Analysis.docx\n",
      " create mode 100644 Walmart Sales Report Analysis.pdf\n",
      " create mode 100644 Walmart_Sales.csv\n",
      " create mode 100644 venv/Include/site/python3.12/greenlet/greenlet.h\n",
      " create mode 100644 venv/Scripts/Activate.ps1\n",
      " create mode 100644 venv/Scripts/activate\n",
      " create mode 100644 venv/Scripts/activate.bat\n",
      " create mode 100644 venv/Scripts/deactivate.bat\n",
      " create mode 100644 venv/Scripts/debugpy.exe\n",
      " create mode 100644 venv/Scripts/f2py.exe\n",
      " create mode 100644 venv/Scripts/ipython.exe\n",
      " create mode 100644 venv/Scripts/ipython3.exe\n",
      " create mode 100644 venv/Scripts/jp.py\n",
      " create mode 100644 venv/Scripts/jupyter-kernel.exe\n",
      " create mode 100644 venv/Scripts/jupyter-kernelspec.exe\n",
      " create mode 100644 venv/Scripts/jupyter-migrate.exe\n",
      " create mode 100644 venv/Scripts/jupyter-run.exe\n",
      " create mode 100644 venv/Scripts/jupyter-troubleshoot.exe\n",
      " create mode 100644 venv/Scripts/jupyter.exe\n",
      " create mode 100644 venv/Scripts/numpy-config.exe\n",
      " create mode 100644 venv/Scripts/pip.exe\n",
      " create mode 100644 venv/Scripts/pip3.12.exe\n",
      " create mode 100644 venv/Scripts/pip3.exe\n",
      " create mode 100644 venv/Scripts/pygmentize.exe\n",
      " create mode 100644 venv/Scripts/python.exe\n",
      " create mode 100644 venv/Scripts/pythonw.exe\n",
      " create mode 100644 venv/Scripts/pywin32_postinstall.py\n",
      " create mode 100644 venv/Scripts/pywin32_testall.py\n",
      " create mode 100644 venv/pyvenv.cfg\n",
      " create mode 100644 venv/share/jupyter/kernels/python3/kernel.json\n",
      " create mode 100644 venv/share/jupyter/kernels/python3/logo-32x32.png\n",
      " create mode 100644 venv/share/jupyter/kernels/python3/logo-64x64.png\n",
      " create mode 100644 venv/share/jupyter/kernels/python3/logo-svg.svg\n",
      " create mode 100644 venv/share/man/man1/ipython.1\n",
      " create mode 100644 walmart_data_ETL.ipynb\n",
      " create mode 100644 walmart_data_analysis.ipynb\n",
      " create mode 100644 walmart_sales_cleaned.csv\n",
      " create mode 100644 walmart_sales_dashboard.pbix\n",
      "Git repository initialized successfully!\n"
     ]
    }
   ],
   "source": [
    "import os\n",
    "\n",
    "# Initialize git repository\n",
    "!git init\n",
    "\n",
    "# Create .gitignore file\n",
    "gitignore_content = \"\"\"\n",
    "# Python\n",
    "__pycache__/\n",
    "*.py[cod]\n",
    "*$py.class\n",
    "*.so\n",
    ".Python\n",
    "env/\n",
    "build/\n",
    "develop-eggs/\n",
    "dist/\n",
    "downloads/\n",
    "eggs/\n",
    ".eggs/\n",
    "lib/\n",
    "lib64/\n",
    "parts/\n",
    "sdist/\n",
    "var/\n",
    "*.egg-info/\n",
    ".installed.cfg\n",
    "*.egg\n",
    "\n",
    "# Jupyter Notebook\n",
    ".ipynb_checkpoints\n",
    "*/.ipynb_checkpoints/*\n",
    "\n",
    "# Environment variables\n",
    ".env\n",
    "\n",
    "# Database credentials and certificates\n",
    "*.pem\n",
    "*.crt\n",
    "*.key\n",
    "\n",
    "# OS generated files\n",
    ".DS_Store\n",
    ".DS_Store?\n",
    "._*\n",
    ".Spotlight-V100\n",
    ".Trashes\n",
    "ehthumbs.db\n",
    "Thumbs.db\n",
    "\"\"\"\n",
    "\n",
    "# Write .gitignore file\n",
    "with open('.gitignore', 'w') as f:\n",
    "    f.write(gitignore_content)\n",
    "\n",
    "# Add files to git\n",
    "!git add .\n",
    "\n",
    "# Initial commit\n",
    "!git commit -m \"Initial commit: Walmart Sales Data Analysis Project\"\n",
    "\n",
    "print(\"Git repository initialized successfully!\")\n"
   ]
  },
  {
   "cell_type": "code",
   "execution_count": null,
   "metadata": {},
   "outputs": [],
   "source": []
  },
  {
   "cell_type": "code",
   "execution_count": null,
   "metadata": {},
   "outputs": [],
   "source": []
  }
 ],
 "metadata": {
  "kernelspec": {
   "display_name": "venv",
   "language": "python",
   "name": "python3"
  },
  "language_info": {
   "codemirror_mode": {
    "name": "ipython",
    "version": 3
   },
   "file_extension": ".py",
   "mimetype": "text/x-python",
   "name": "python",
   "nbconvert_exporter": "python",
   "pygments_lexer": "ipython3",
   "version": "3.12.2"
  }
 },
 "nbformat": 4,
 "nbformat_minor": 2
}
